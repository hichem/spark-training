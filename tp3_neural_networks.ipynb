{
 "cells": [
  {
   "cell_type": "markdown",
   "metadata": {},
   "source": [
    "### Load data"
   ]
  },
  {
   "cell_type": "code",
   "execution_count": 1,
   "metadata": {},
   "outputs": [
    {
     "name": "stdout",
     "output_type": "stream",
     "text": [
      "+------------+-----------+------------+-----------+-------+\n",
      "|sepal_length|sepal_width|petal_length|petal_width|species|\n",
      "+------------+-----------+------------+-----------+-------+\n",
      "|         5.1|        3.5|         1.4|        0.2| setosa|\n",
      "|         4.9|        3.0|         1.4|        0.2| setosa|\n",
      "+------------+-----------+------------+-----------+-------+\n",
      "only showing top 2 rows\n",
      "\n"
     ]
    }
   ],
   "source": [
    "df = spark.read.load(\"Iris1.csv\", format=\"csv\", sep=\",\", inferSchema=\"true\", header=\"true\")\n",
    "df.show(2)"
   ]
  },
  {
   "cell_type": "markdown",
   "metadata": {},
   "source": [
    "### Prepare Data"
   ]
  },
  {
   "cell_type": "code",
   "execution_count": 9,
   "metadata": {},
   "outputs": [
    {
     "name": "stdout",
     "output_type": "stream",
     "text": [
      "+------------+-----------+------------+-----------+-------+-----------------+\n",
      "|sepal_length|sepal_width|petal_length|petal_width|species|         features|\n",
      "+------------+-----------+------------+-----------+-------+-----------------+\n",
      "|         5.1|        3.5|         1.4|        0.2| setosa|[0.2,1.4,3.5,5.1]|\n",
      "|         4.9|        3.0|         1.4|        0.2| setosa|[0.2,1.4,3.0,4.9]|\n",
      "+------------+-----------+------------+-----------+-------+-----------------+\n",
      "only showing top 2 rows\n",
      "\n",
      "+------------+-----------+------------+-----------+-------+-----------------+------------+\n",
      "|sepal_length|sepal_width|petal_length|petal_width|species|         features|speciesIndex|\n",
      "+------------+-----------+------------+-----------+-------+-----------------+------------+\n",
      "|         5.1|        3.5|         1.4|        0.2| setosa|[0.2,1.4,3.5,5.1]|         2.0|\n",
      "|         4.9|        3.0|         1.4|        0.2| setosa|[0.2,1.4,3.0,4.9]|         2.0|\n",
      "+------------+-----------+------------+-----------+-------+-----------------+------------+\n",
      "only showing top 2 rows\n",
      "\n",
      "Training Data Count: 120\n",
      "Training Data Count: 30\n"
     ]
    }
   ],
   "source": [
    "from pyspark.ml.feature import StringIndexer\n",
    "from pyspark.ml.feature import VectorAssembler\n",
    "speciesIndexer = StringIndexer(inputCol='species', outputCol='speciesIndex')\n",
    "vectorAssembler = VectorAssembler(inputCols=['petal_width', 'petal_length', 'sepal_width', 'sepal_length'], outputCol='features')\n",
    "data = vectorAssembler.transform(df)\n",
    "data.show(2)\n",
    "index_model = speciesIndexer.fit(data)\n",
    "data_indexed = index_model.transform(data)\n",
    "data_indexed.show(2)\n",
    "training_data, test_data = data_indexed.randomSplit([0.8, 0.2], 0.0)\n",
    "print(\"Training Data Count: %s\" % training_data.count())\n",
    "print(\"Training Data Count: %s\" % test_data.count())"
   ]
  },
  {
   "cell_type": "markdown",
   "metadata": {},
   "source": [
    "### Load Neural Network Library"
   ]
  },
  {
   "cell_type": "code",
   "execution_count": 6,
   "metadata": {},
   "outputs": [],
   "source": [
    "from pyspark.ml.classification import MultilayerPerceptronClassifier"
   ]
  },
  {
   "cell_type": "code",
   "execution_count": 7,
   "metadata": {},
   "outputs": [],
   "source": [
    "#layers list contains the following\n",
    "# Number of features\n",
    "# ...\n",
    "# Number of neurons by layer\n",
    "# ...\n",
    "# Number of classes\n",
    "#\n",
    "# In this example we create 2 hidden layers, the first has 5 neurons, the second 4\n",
    "layers = [4, 5, 4, 3]"
   ]
  },
  {
   "cell_type": "code",
   "execution_count": 10,
   "metadata": {},
   "outputs": [],
   "source": [
    "# setBlockSize: provide the size of data to be used for training at each epoch\n",
    "# setSeed: provide a seed for random generation\n",
    "nn = MultilayerPerceptronClassifier().setLayers(layers).setLabelCol('speciesIndex').setFeaturesCol('features').setBlockSize(training_data.count()).setSeed(1234)"
   ]
  },
  {
   "cell_type": "code",
   "execution_count": 11,
   "metadata": {},
   "outputs": [],
   "source": [
    "model = nn.fit(training_data)"
   ]
  },
  {
   "cell_type": "code",
   "execution_count": 12,
   "metadata": {},
   "outputs": [],
   "source": [
    "classifications = model.transform(test_data)"
   ]
  },
  {
   "cell_type": "markdown",
   "metadata": {},
   "source": [
    "### Evaluate Accuracy"
   ]
  },
  {
   "cell_type": "code",
   "execution_count": 13,
   "metadata": {},
   "outputs": [
    {
     "name": "stdout",
     "output_type": "stream",
     "text": [
      "Accuracy: 0.933333333333\n"
     ]
    }
   ],
   "source": [
    "from pyspark.ml.evaluation import MulticlassClassificationEvaluator\n",
    "evaluator = MulticlassClassificationEvaluator(labelCol='speciesIndex', predictionCol='prediction', metricName='accuracy')\n",
    "accuracy = evaluator.evaluate(classifications)\n",
    "print(\"Accuracy: %s\" % accuracy)"
   ]
  },
  {
   "cell_type": "markdown",
   "metadata": {},
   "source": [
    "### Model with more neurons (10)"
   ]
  },
  {
   "cell_type": "code",
   "execution_count": 18,
   "metadata": {},
   "outputs": [
    {
     "name": "stdout",
     "output_type": "stream",
     "text": [
      "Accuracy: 0.933333333333\n"
     ]
    }
   ],
   "source": [
    "layers = [4, 10, 10, 3]\n",
    "nn = MultilayerPerceptronClassifier().setLayers(layers).setLabelCol('speciesIndex').setFeaturesCol('features').setBlockSize(training_data.count()).setSeed(1234)\n",
    "model = nn.fit(training_data)\n",
    "classifications = model.transform(test_data)\n",
    "accuracy = evaluator.evaluate(classifications)\n",
    "print(\"Accuracy: %s\" % accuracy)"
   ]
  },
  {
   "cell_type": "markdown",
   "metadata": {},
   "source": [
    "### Random Forest"
   ]
  },
  {
   "cell_type": "code",
   "execution_count": 19,
   "metadata": {},
   "outputs": [],
   "source": [
    "from pyspark.ml.classification import RandomForestClassifier"
   ]
  },
  {
   "cell_type": "code",
   "execution_count": 20,
   "metadata": {},
   "outputs": [],
   "source": [
    "rf = RandomForestClassifier().setLabelCol('speciesIndex').setFeaturesCol('features').setNumTrees(40)"
   ]
  },
  {
   "cell_type": "code",
   "execution_count": 21,
   "metadata": {},
   "outputs": [],
   "source": [
    "model = rf.fit(training_data)"
   ]
  },
  {
   "cell_type": "code",
   "execution_count": 22,
   "metadata": {},
   "outputs": [
    {
     "name": "stdout",
     "output_type": "stream",
     "text": [
      "Accuracy: 0.966666666667\n"
     ]
    }
   ],
   "source": [
    "classifications = model.transform(test_data)\n",
    "accuracy = evaluator.evaluate(classifications)\n",
    "print(\"Accuracy: %s\" % accuracy)"
   ]
  },
  {
   "cell_type": "code",
   "execution_count": null,
   "metadata": {},
   "outputs": [],
   "source": []
  }
 ],
 "metadata": {
  "kernelspec": {
   "display_name": "Python 2",
   "language": "python",
   "name": "python2"
  },
  "language_info": {
   "codemirror_mode": {
    "name": "ipython",
    "version": 2
   },
   "file_extension": ".py",
   "mimetype": "text/x-python",
   "name": "python",
   "nbconvert_exporter": "python",
   "pygments_lexer": "ipython2",
   "version": "2.7.12"
  }
 },
 "nbformat": 4,
 "nbformat_minor": 2
}
